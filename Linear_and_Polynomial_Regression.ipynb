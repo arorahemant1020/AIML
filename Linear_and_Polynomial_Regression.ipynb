{
  "cells": [
    {
      "cell_type": "markdown",
      "metadata": {
        "id": "view-in-github",
        "colab_type": "text"
      },
      "source": [
        "<a href=\"https://colab.research.google.com/github/arorahemant1020/AIML/blob/main/Linear_and_Polynomial_Regression.ipynb\" target=\"_parent\"><img src=\"https://colab.research.google.com/assets/colab-badge.svg\" alt=\"Open In Colab\"/></a>"
      ]
    },
    {
      "cell_type": "markdown",
      "metadata": {
        "id": "8Ha7_bZ6M15U"
      },
      "source": [
        "# Linear and Polynomial Regression Tutorial\n",
        "\n",
        "In this notebook, we'll be looking at the basic implementation of Linear Regression. The dataset used for this tutorial is House Price Prediction. It has been modified by me to make it simpler to understand.\n",
        "\n",
        "The modified dataset **\"data.csv\"** contains 3 independent variables and 1 dependent variable.\n",
        "\n",
        "### Independent Variables:\n",
        "\n",
        "1stFlrSF - First Floor square feet <br />\n",
        "2ndFlrSF - Second floor square feet <br />\n",
        "YearBuilt - Original construction date\n",
        "\n",
        "### Dependent Variables:\n",
        "\n",
        "SalePrice - the property's sale price in dollars. (This is the target variable that you're trying to predict.)\n",
        "\n",
        "If you wish to work on the complete dataset, it can be found at:\n",
        "[House Prices: Advanced Regression Techniques](https://www.kaggle.com/c/house-prices-advanced-regression-techniques/).\n",
        "\n",
        "Let's get into the code right away!"
      ]
    },
    {
      "cell_type": "markdown",
      "metadata": {
        "id": "ppfz64s3M15f"
      },
      "source": [
        "## 1. Importing Python Libraries"
      ]
    },
    {
      "cell_type": "code",
      "execution_count": null,
      "metadata": {
        "id": "JRwVe_YFM15g"
      },
      "outputs": [],
      "source": [
        "import datetime as dt\n",
        "import sys\n",
        "import pandas as pd\n",
        "from sklearn.model_selection import train_test_split\n",
        "from sklearn.linear_model import LinearRegression\n",
        "from sklearn.metrics import mean_squared_error\n",
        "from sklearn.preprocessing import PolynomialFeatures\n",
        "from math import sqrt"
      ]
    },
    {
      "cell_type": "markdown",
      "metadata": {
        "id": "uFOErj3_M15i"
      },
      "source": [
        "## 2. Reading the Dataset as a Dataframe using Pandas"
      ]
    },
    {
      "cell_type": "code",
      "execution_count": null,
      "metadata": {
        "id": "imoBmhWIM15j"
      },
      "outputs": [],
      "source": [
        "df = pd.read_csv(\"data.csv\")"
      ]
    },
    {
      "cell_type": "markdown",
      "metadata": {
        "id": "QWhLDmG-M15k"
      },
      "source": [
        "## 3. Initializing the Independent and the Dependent Variables"
      ]
    },
    {
      "cell_type": "code",
      "execution_count": null,
      "metadata": {
        "id": "CY0_3c-MM15l",
        "outputId": "eff6d31b-677d-486c-9db0-d17ed3ccf1a4",
        "colab": {
          "base_uri": "https://localhost:8080/",
          "height": 159
        }
      },
      "outputs": [
        {
          "output_type": "error",
          "ename": "TypeError",
          "evalue": "DataFrame.drop() takes from 1 to 2 positional arguments but 3 were given",
          "traceback": [
            "\u001b[0;31m---------------------------------------------------------------------------\u001b[0m",
            "\u001b[0;31mTypeError\u001b[0m                                 Traceback (most recent call last)",
            "\u001b[0;32m<ipython-input-3-7433e563cbe6>\u001b[0m in \u001b[0;36m<cell line: 1>\u001b[0;34m()\u001b[0m\n\u001b[0;32m----> 1\u001b[0;31m \u001b[0mX\u001b[0m \u001b[0;34m=\u001b[0m \u001b[0mdf\u001b[0m\u001b[0;34m.\u001b[0m\u001b[0mdrop\u001b[0m\u001b[0;34m(\u001b[0m\u001b[0;34m\"SalePrice\"\u001b[0m\u001b[0;34m,\u001b[0m \u001b[0;36m1\u001b[0m\u001b[0;34m)\u001b[0m\u001b[0;34m\u001b[0m\u001b[0;34m\u001b[0m\u001b[0m\n\u001b[0m\u001b[1;32m      2\u001b[0m \u001b[0my\u001b[0m \u001b[0;34m=\u001b[0m \u001b[0mdf\u001b[0m\u001b[0;34m[\u001b[0m\u001b[0;34m\"SalePrice\"\u001b[0m\u001b[0;34m]\u001b[0m\u001b[0;34m\u001b[0m\u001b[0;34m\u001b[0m\u001b[0m\n",
            "\u001b[0;31mTypeError\u001b[0m: DataFrame.drop() takes from 1 to 2 positional arguments but 3 were given"
          ]
        }
      ],
      "source": [
        "X = df.drop(\"SalePrice\", 1)\n",
        "y = df[\"SalePrice\"]"
      ]
    },
    {
      "cell_type": "markdown",
      "metadata": {
        "id": "YnPJpSBMM15m"
      },
      "source": [
        "## 4. Training and Testing Data"
      ]
    },
    {
      "cell_type": "code",
      "execution_count": null,
      "metadata": {
        "id": "r09v6CxSM15n"
      },
      "outputs": [],
      "source": [
        "X_train, X_test, y_train, y_test = train_test_split(X, y, test_size=0.20, random_state=42)"
      ]
    },
    {
      "cell_type": "markdown",
      "metadata": {
        "id": "PB0CztpYM15o"
      },
      "source": [
        "## 5. Linear Regression Model"
      ]
    },
    {
      "cell_type": "code",
      "execution_count": null,
      "metadata": {
        "id": "4FFUUTKtM15p"
      },
      "outputs": [],
      "source": [
        "model_lin = LinearRegression()\n",
        "model_lin.fit(X_train, y_train)\n",
        "y_pred_lin = model_lin.predict(X_test)"
      ]
    },
    {
      "cell_type": "markdown",
      "metadata": {
        "id": "u52jIGm9M15s"
      },
      "source": [
        "## 6. Polynomial Features"
      ]
    },
    {
      "cell_type": "code",
      "execution_count": null,
      "metadata": {
        "id": "lPsf_kLFM15s"
      },
      "outputs": [],
      "source": [
        "poly = PolynomialFeatures(degree = 4)\n",
        "X_poly = poly.fit_transform(X_train)\n",
        "poly.fit(X_poly, y_train)"
      ]
    },
    {
      "cell_type": "markdown",
      "metadata": {
        "id": "p_sO-CFlM15t"
      },
      "source": [
        "## 7. Polynomial Regression Model"
      ]
    },
    {
      "cell_type": "code",
      "execution_count": null,
      "metadata": {
        "id": "QtJA5tGBM15t"
      },
      "outputs": [],
      "source": [
        "model_poly = LinearRegression()\n",
        "model_poly.fit(X_poly, y_train)\n",
        "y_pred_poly = model_poly.predict(poly.fit_transform(X_test))"
      ]
    },
    {
      "cell_type": "markdown",
      "metadata": {
        "id": "CxfGv4dCM15u"
      },
      "source": [
        "## 8. Tabulating Results"
      ]
    },
    {
      "cell_type": "code",
      "execution_count": null,
      "metadata": {
        "scrolled": true,
        "id": "12odeGD5M15u"
      },
      "outputs": [],
      "source": [
        "results = pd.DataFrame({\n",
        "    \"LinPred\": y_pred_lin,\n",
        "    \"PolyPred\": y_pred_poly,\n",
        "    \"TrueValues\": y_test\n",
        "})"
      ]
    },
    {
      "cell_type": "markdown",
      "metadata": {
        "id": "wvtLKAfwM15v"
      },
      "source": [
        "## 9. Evaluation Metrics - Root Mean Square Error (RMSE)"
      ]
    },
    {
      "cell_type": "code",
      "execution_count": null,
      "metadata": {
        "id": "UIfREWoGM15v"
      },
      "outputs": [],
      "source": [
        "rmse_lin = sqrt(mean_squared_error(results[\"TrueValues\"], results[\"LinPred\"]))\n",
        "rmse_poly = sqrt(mean_squared_error(results[\"TrueValues\"], results[\"PolyPred\"]))\n",
        "\n",
        "print(\"RMSE (Linear Regression): \", rmse_lin)\n",
        "print(\"RMSE (Polynomial Regression): \", rmse_poly)"
      ]
    },
    {
      "cell_type": "markdown",
      "metadata": {
        "id": "LOKtAx2jM15x"
      },
      "source": [
        "### Goal Achieved, Linear and Polynomial Regression learned!\n",
        "\n",
        "So in this notebook, we saw how to implement Linear and Polynomial Regression using Scikit-learn.\n",
        "\n",
        "I know the RMSEs are too bad. We will use the complete data, perform better feature engineering, and implement more robust algorithms to obtain better results in the future.\n",
        "\n",
        "We can observe one thing that RMSE for the Polynomial Regression is better than that for the Linear Regression. Hence we can conclude that Polynomial Regression generally outperforms Linear Regression as Polynomial basically fits wide range of curvature.\n",
        "\n",
        "**Till then, Keep coding!**\n",
        "\n",
        "**Thank You!**"
      ]
    }
  ],
  "metadata": {
    "kernelspec": {
      "display_name": "Python 3",
      "language": "python",
      "name": "python3"
    },
    "language_info": {
      "codemirror_mode": {
        "name": "ipython",
        "version": 3
      },
      "file_extension": ".py",
      "mimetype": "text/x-python",
      "name": "python",
      "nbconvert_exporter": "python",
      "pygments_lexer": "ipython3",
      "version": "3.6.10"
    },
    "colab": {
      "provenance": [],
      "include_colab_link": true
    }
  },
  "nbformat": 4,
  "nbformat_minor": 0
}